{
 "cells": [
  {
   "cell_type": "code",
   "execution_count": 79,
   "metadata": {},
   "outputs": [
    {
     "name": "stdout",
     "output_type": "stream",
     "text": [
      "如果条件为True就会被执行的代码块\n",
      "5 为正的数\n",
      "代码块之外（单独执行）\n"
     ]
    }
   ],
   "source": [
    "num = 5\n",
    "\n",
    "if num > 0:\n",
    "    print('如果条件为True就会被执行的代码块')\n",
    "    print(num, '为正的数')\n",
    "print('代码块之外（单独执行）')"
   ]
  },
  {
   "cell_type": "markdown",
   "metadata": {},
   "source": [
    "▲ 程序清单 1.41 if 语句条件表达式的返回值为 True 时的情况"
   ]
  },
  {
   "cell_type": "code",
   "execution_count": 3,
   "metadata": {},
   "outputs": [
    {
     "name": "stdout",
     "output_type": "stream",
     "text": [
      "代码块之外（单独执行）\n"
     ]
    }
   ],
   "source": [
    "num = -5\n",
    "\n",
    "if num > 0:\n",
    "    print('如果条件为True就会被执行的代码块')\n",
    "    print(num, '为正的数')\n",
    "print('代码块之外（单独执行）')"
   ]
  },
  {
   "cell_type": "markdown",
   "metadata": {},
   "source": [
    "▲ 程序清单 1.42 if 语句条件表达式的返回值为 False 时的情况"
   ]
  },
  {
   "cell_type": "code",
   "execution_count": 82,
   "metadata": {},
   "outputs": [
    {
     "name": "stdout",
     "output_type": "stream",
     "text": [
      "-4 为负的数\n"
     ]
    }
   ],
   "source": [
    "import random\n",
    "num = random.randint(-10,10)\n",
    "if num > 0:\n",
    "    print(num, '为正的数')\n",
    "elif num < 0:\n",
    "    print(num, '为负的数')"
   ]
  },
  {
   "cell_type": "markdown",
   "metadata": {},
   "source": [
    "▲ 程序清单 1.43 if 语句和 elif 代码块的条件分支"
   ]
  },
  {
   "cell_type": "code",
   "execution_count": 85,
   "metadata": {},
   "outputs": [
    {
     "name": "stdout",
     "output_type": "stream",
     "text": [
      "6 为正的数\n"
     ]
    }
   ],
   "source": [
    "import random\n",
    "num = random.randint(-10, 10)\n",
    "\n",
    "if num > 0:\n",
    "    print(num, '为正的数')\n",
    "elif num == 0:\n",
    "    print(num, '为零')\n",
    "else:\n",
    "    print(num, '为负的数')"
   ]
  },
  {
   "cell_type": "markdown",
   "metadata": {},
   "source": [
    "▲ 程序清单 1.44 if 语句、elif 代码块及 else 代码块的条件分支"
   ]
  },
  {
   "cell_type": "code",
   "execution_count": 86,
   "metadata": {},
   "outputs": [
    {
     "name": "stdout",
     "output_type": "stream",
     "text": [
      "1 次合计 : 1\n",
      "2 次合计 : 3\n",
      "3 次合计 : 6\n",
      "4 次合计 : 10\n",
      "5 次合计 : 15\n"
     ]
    }
   ],
   "source": [
    "n = 5\n",
    "total = 0\n",
    "i = 1\n",
    "\n",
    "while i <= n:\n",
    "    total = total + i\n",
    "    print(i, '次合计 :', total )\n",
    "    i = i + 1"
   ]
  },
  {
   "cell_type": "markdown",
   "metadata": {},
   "source": [
    "▲ 程序清单 1.45 使用 while 语句对从 1 到 n 的自然数进行求和计算"
   ]
  },
  {
   "cell_type": "code",
   "execution_count": 47,
   "metadata": {},
   "outputs": [
    {
     "name": "stdout",
     "output_type": "stream",
     "text": [
      "1 次循环\n",
      "2 次循环\n",
      "3 次循环\n",
      "4次循环\n",
      "5 次循环\n",
      "6 次循环\n",
      "7 次循环\n",
      "8 次循环\n",
      "9 次循环\n",
      "10 次循环\n",
      "条件表达式的值为False\n"
     ]
    }
   ],
   "source": [
    "count = 0\n",
    "n = 10\n",
    "\n",
    "while count < n:\n",
    "    count += 1\n",
    "    print(count, '次循环')    \n",
    "else:\n",
    "    print('条件表达式的值为False')"
   ]
  },
  {
   "cell_type": "markdown",
   "metadata": {},
   "source": [
    "▲  程序清单 1.46 while 语句和 else 代码块的条件分支"
   ]
  },
  {
   "cell_type": "code",
   "execution_count": 49,
   "metadata": {},
   "outputs": [
    {
     "name": "stdout",
     "output_type": "stream",
     "text": [
      "1 + 0\n",
      "2 + 1\n",
      "3 + 3\n",
      "4 + 6\n",
      "5 + 10\n",
      "15\n"
     ]
    }
   ],
   "source": [
    "nums = [1,2,3,4,5]\n",
    "total = 0\n",
    "\n",
    "for num in nums:\n",
    "    print(num, '+', total)\n",
    "    total = total + num\n",
    "\n",
    "print(total)"
   ]
  },
  {
   "cell_type": "markdown",
   "metadata": {},
   "source": [
    "▲ 程序清单 1.47 for 语句的循环"
   ]
  },
  {
   "cell_type": "code",
   "execution_count": 50,
   "metadata": {},
   "outputs": [
    {
     "name": "stdout",
     "output_type": "stream",
     "text": [
      "p\n",
      "a\n",
      "n\n",
      "d\n",
      "a\n",
      "s\n"
     ]
    }
   ],
   "source": [
    "letters = 'pandas'\n",
    "\n",
    "for letter in letters:\n",
    "    print(letter)"
   ]
  },
  {
   "cell_type": "markdown",
   "metadata": {},
   "source": [
    "▲ 程序清单 1.48 使用 for 语句处理字符串的元素"
   ]
  },
  {
   "cell_type": "code",
   "execution_count": 51,
   "metadata": {},
   "outputs": [
    {
     "name": "stdout",
     "output_type": "stream",
     "text": [
      "range(0, 5)\n",
      "<class 'range'>\n",
      "[0, 1, 2, 3, 4]\n"
     ]
    }
   ],
   "source": [
    "print(range(5))\n",
    "print(type(range(5)))\n",
    "print(list(range(5)))"
   ]
  },
  {
   "cell_type": "markdown",
   "metadata": {},
   "source": [
    "▲ 程序清单 1.49 range 函数值的查看"
   ]
  },
  {
   "cell_type": "code",
   "execution_count": 87,
   "metadata": {},
   "outputs": [
    {
     "name": "stdout",
     "output_type": "stream",
     "text": [
      "变量pet的元素数量  :  3\n",
      "变量pet的索引 0 cat\n",
      "变量pet的索引 1 dog\n",
      "变量pet的索引 2 fish\n"
     ]
    }
   ],
   "source": [
    "pet = ['cat', 'dog', 'fish']\n",
    "print('变量pet的元素数量  : ', len(pet))\n",
    "\n",
    "for i in range(len(pet)):\n",
    "    print('变量pet的索引', i, pet[i])"
   ]
  },
  {
   "cell_type": "markdown",
   "metadata": {},
   "source": [
    "▲ 程序清单 1.50 range 函数、len 函数与 for 语句实现的索引引用"
   ]
  },
  {
   "cell_type": "code",
   "execution_count": 56,
   "metadata": {},
   "outputs": [
    {
     "name": "stdout",
     "output_type": "stream",
     "text": [
      "1\n",
      "2\n"
     ]
    }
   ],
   "source": [
    "nums = [1,2,3,4,5]\n",
    "for num in nums:\n",
    "    if num == 3:\n",
    "        break\n",
    "    print(num)"
   ]
  },
  {
   "cell_type": "markdown",
   "metadata": {},
   "source": [
    "▲ 程序清单 1.51 使用 break 语句中断 for 语句"
   ]
  },
  {
   "cell_type": "code",
   "execution_count": 58,
   "metadata": {},
   "outputs": [
    {
     "name": "stdout",
     "output_type": "stream",
     "text": [
      "1\n",
      "2\n",
      "4\n",
      "5\n"
     ]
    }
   ],
   "source": [
    "nums = [1,2,3,4,5]\n",
    "for num in nums:\n",
    "    if num == 3:\n",
    "        continue\n",
    "    print(num)"
   ]
  },
  {
   "cell_type": "markdown",
   "metadata": {},
   "source": [
    "▲ 程序清单 1.52 使用 continue 语句跳过 for 语句"
   ]
  },
  {
   "cell_type": "code",
   "execution_count": 88,
   "metadata": {},
   "outputs": [],
   "source": [
    "def multi(a, b):\n",
    "    c = a * b\n",
    "    print(c)"
   ]
  },
  {
   "cell_type": "code",
   "execution_count": 89,
   "metadata": {},
   "outputs": [
    {
     "name": "stdout",
     "output_type": "stream",
     "text": [
      "15\n"
     ]
    }
   ],
   "source": [
    "multi(3, 5)"
   ]
  },
  {
   "cell_type": "markdown",
   "metadata": {},
   "source": [
    "▲  程序清单 1.54 在定义后的 multi 函数中指定参数 3 和参数 5 并执行处理"
   ]
  },
  {
   "cell_type": "code",
   "execution_count": 90,
   "metadata": {},
   "outputs": [
    {
     "name": "stdout",
     "output_type": "stream",
     "text": [
      "5\n",
      "5\n"
     ]
    }
   ],
   "source": [
    "def absolute(a):\n",
    "    if a >= 0:\n",
    "        return a\n",
    "    else:\n",
    "        return -1 * a\n",
    "\n",
    "print(absolute(5))\n",
    "print(absolute(-5))"
   ]
  },
  {
   "cell_type": "markdown",
   "metadata": {},
   "source": [
    "▲ 程序清单 1.55 对返回绝对值的 absolute 函数进行定义"
   ]
  },
  {
   "cell_type": "code",
   "execution_count": 64,
   "metadata": {},
   "outputs": [
    {
     "name": "stdout",
     "output_type": "stream",
     "text": [
      "1\n",
      "-4\n"
     ]
    }
   ],
   "source": [
    "def cal(a, b, name=5):\n",
    "    return(a + b - name)\n",
    "\n",
    "print(cal(2, 4))\n",
    "print(cal(2, 4, name=10))"
   ]
  },
  {
   "cell_type": "markdown",
   "metadata": {},
   "source": [
    "▲ 程序清单 1.56 定义位置参数与关键字参数"
   ]
  }
 ],
 "metadata": {
  "kernelspec": {
   "display_name": "Python 3 (ipykernel)",
   "language": "python",
   "name": "python3"
  }
 },
 "nbformat": 4,
 "nbformat_minor": 2
}
